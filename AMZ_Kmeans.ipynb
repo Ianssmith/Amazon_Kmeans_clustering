{
 "cells": [
  {
   "cell_type": "code",
   "execution_count": 1,
   "metadata": {
    "collapsed": false
   },
   "outputs": [],
   "source": [
    "#Import libraries\n",
    "import numpy as np\n",
    "import scipy as sp\n",
    "import pandas as pd\n",
    "import matplotlib.pyplot as plt\n",
    "\n",
    "\n",
    "\n",
    "#Set display options to display all data\n",
    "pd.set_option('display.max_columns', 1000000)\n",
    "pd.set_option('display.max_rows', 1000000)"
   ]
  },
  {
   "cell_type": "code",
   "execution_count": 2,
   "metadata": {
    "collapsed": false
   },
   "outputs": [
    {
     "name": "stdout",
     "output_type": "stream",
     "text": [
      "(455000, 13)\n"
     ]
    }
   ],
   "source": [
    "#Import csv and fill Na values \n",
    "data = pd.read_csv('Amazon.csv')\n",
    "print(data.shape)\n",
    "data.Summary = data.Summary.fillna('0')\n",
    "data.ProfileName = data.ProfileName.fillna(' ')"
   ]
  },
  {
   "cell_type": "code",
   "execution_count": 3,
   "metadata": {
    "collapsed": false
   },
   "outputs": [],
   "source": [
    "#Create columns stating number of reviews written pre user, and per product\n",
    "data['UserCounts'] = data.groupby('UserId')['UserId'].transform('count')\n",
    "data['ProductCounts'] = data.groupby('ProductId')['ProductId'].transform('count')\n",
    "data['Time'] = pd.to_datetime(data['Time'],unit='s')"
   ]
  },
  {
   "cell_type": "code",
   "execution_count": 4,
   "metadata": {
    "collapsed": false
   },
   "outputs": [
    {
     "data": {
      "text/plain": [
       "(300664, 15)"
      ]
     },
     "execution_count": 4,
     "metadata": {},
     "output_type": "execute_result"
    }
   ],
   "source": [
    "#removing review outliears\n",
    "data = data[data.UserCounts <= 150]\n",
    "data = data[data.UserCounts >= 2]\n",
    "#removing product outliers\n",
    "data = data[data.ProductCounts <= 550]\n",
    "data.shape"
   ]
  },
  {
   "cell_type": "code",
   "execution_count": 5,
   "metadata": {
    "collapsed": false
   },
   "outputs": [
    {
     "data": {
      "text/plain": [
       "(46754, 2)"
      ]
     },
     "execution_count": 5,
     "metadata": {},
     "output_type": "execute_result"
    }
   ],
   "source": [
    "#grouping userIDs with their Products\n",
    "product_by_pid = data.groupby('ProductId')['UserId'].apply(lambda x: ' '.join(x)).reset_index()\n",
    "product_by_pid.shape"
   ]
  },
  {
   "cell_type": "code",
   "execution_count": 6,
   "metadata": {
    "collapsed": false
   },
   "outputs": [],
   "source": [
    "#transform to matrix\n",
    "uidArray = product_by_pid.UserId.as_matrix()\n"
   ]
  },
  {
   "cell_type": "code",
   "execution_count": 7,
   "metadata": {
    "collapsed": true
   },
   "outputs": [],
   "source": [
    "from sklearn.feature_extraction.text import CountVectorizer\n",
    "count = CountVectorizer()"
   ]
  },
  {
   "cell_type": "code",
   "execution_count": 8,
   "metadata": {
    "collapsed": false
   },
   "outputs": [
    {
     "data": {
      "text/plain": [
       "(46754, 67205)"
      ]
     },
     "execution_count": 8,
     "metadata": {},
     "output_type": "execute_result"
    }
   ],
   "source": [
    "#Count Vectorize\n",
    "userFeatures = count.fit_transform(uidArray)\n",
    "userFeatures.shape"
   ]
  },
  {
   "cell_type": "code",
   "execution_count": 9,
   "metadata": {
    "collapsed": false
   },
   "outputs": [
    {
     "data": {
      "text/plain": [
       "KMeans(copy_x=True, init='k-means++', max_iter=100, n_clusters=11,\n",
       "    n_init=1000, n_jobs=1, precompute_distances='auto', random_state=None,\n",
       "    tol=0.0001, verbose=0)"
      ]
     },
     "execution_count": 9,
     "metadata": {},
     "output_type": "execute_result"
    }
   ],
   "source": [
    "#Fit to Kmeans\n",
    "from sklearn.cluster import KMeans\n",
    "\n",
    "km = KMeans(n_clusters=11, max_iter=100, n_init=1000)\n",
    "km.fit(userFeatures)"
   ]
  },
  {
   "cell_type": "code",
   "execution_count": 10,
   "metadata": {
    "collapsed": false
   },
   "outputs": [],
   "source": [
    "#Re-format\n",
    "convert_km = pd.DataFrame(km.labels_)\n",
    "results = pd.concat([product_by_pid, convert_km], axis=1, ignore_index=True)\n",
    "results.columns = ['ProductId', 'UserIds', 'cluster']\n",
    "clusters = pd.merge(results, data, how='left', on='ProductId')\n",
    "#cluster_results = clusters.Summary.groupby(clusters.cluster)"
   ]
  },
  {
   "cell_type": "code",
   "execution_count": 11,
   "metadata": {
    "collapsed": false
   },
   "outputs": [
    {
     "data": {
      "text/plain": [
       "1     277442\n",
       "8       4097\n",
       "2       3445\n",
       "9       3270\n",
       "7       2476\n",
       "4       2058\n",
       "0       1914\n",
       "3       1756\n",
       "6       1755\n",
       "10      1290\n",
       "5       1161\n",
       "Name: cluster, dtype: int64"
      ]
     },
     "execution_count": 11,
     "metadata": {},
     "output_type": "execute_result"
    }
   ],
   "source": [
    "#Show clustering results\n",
    "clusters.cluster.value_counts()"
   ]
  },
  {
   "cell_type": "code",
   "execution_count": 12,
   "metadata": {
    "collapsed": false
   },
   "outputs": [],
   "source": [
    "#Splitting up clusters for analyzing\n",
    "cluster0 = clusters.loc[clusters['cluster'] == 0]\n",
    "cluster1 = clusters.loc[clusters['cluster'] == 1]\n",
    "cluster2 = clusters.loc[clusters['cluster'] == 2]\n",
    "cluster3 = clusters.loc[clusters['cluster'] == 3]\n",
    "cluster4 = clusters.loc[clusters['cluster'] == 4]\n",
    "cluster5 = clusters.loc[clusters['cluster'] == 5]\n",
    "cluster6 = clusters.loc[clusters['cluster'] == 6]\n",
    "cluster7 = clusters.loc[clusters['cluster'] == 7]\n",
    "cluster8 = clusters.loc[clusters['cluster'] == 8]\n",
    "cluster9 = clusters.loc[clusters['cluster'] == 9]\n",
    "cluster10 = clusters.loc[clusters['cluster'] == 10]\n",
    "\n"
   ]
  },
  {
   "cell_type": "code",
   "execution_count": 13,
   "metadata": {
    "collapsed": true
   },
   "outputs": [],
   "source": [
    "# set options to show more data\n",
    "pd.set_option('max_colwidth',2000)"
   ]
  },
  {
   "cell_type": "code",
   "execution_count": 14,
   "metadata": {
    "collapsed": false
   },
   "outputs": [
    {
     "name": "stdout",
     "output_type": "stream",
     "text": [
      "255972                                                                        Will reach for this product in the store...\n",
      "255973                                                                                                          Very good\n",
      "255974                                                                            Tap water for the price of spring water\n",
      "255975                                                                      Zero difference from any other bottled water.\n",
      "255976                                                                             Refreshing....tastes like water should\n",
      "255977    This nutrition-nut/water  connoisseur agrees that Essentia Water delivers unmatched hydration, health and taste\n",
      "255978                                                                                            Not for giraffe-rinsing\n",
      "255979                                                                         Doesn't taste as good as some other waters\n",
      "255980                                                                                                     Very hydrating\n",
      "255981                                                          Highest PH level we can find without buying a home system\n",
      "255982                                                                                             Tastes just like water\n",
      "255983                                                                Good water, wins local taste test, but just barely.\n",
      "255984                                                                                               Just expensive water\n",
      "255985                                                                                                            H 2 Oh!\n",
      "255986                                                                                                       Our favorite\n",
      "Name: Summary, dtype: object\n",
      "0                                One of our family's favorite books\n",
      "1     Children will find it entertaining and a generator of giggles\n",
      "2                                                        Must have.\n",
      "3                                                         A classic\n",
      "4                                       This book is much too small\n",
      "5                                                    so fun to read\n",
      "6                                                         5 snouts!\n",
      "7                                             great product & value\n",
      "8                                 Dogs, Cats, Ferrets all love this\n",
      "9                                              Stewart's Pro-Treats\n",
      "10                    my 12 year old maltese has always loved these\n",
      "11                                              My dog loves these!\n",
      "12                                          Great reward for my dog\n",
      "13                                                        pro treat\n",
      "14                                                     Dogs love'em\n",
      "Name: Summary, dtype: object\n",
      "3798                            Earthy and comforting\n",
      "3799                                   Wonderful Tea.\n",
      "3800                               Served its purpose\n",
      "3801    Saw this on Dr. OZ for eliminating crows feet\n",
      "3802                                  A very fine Tea\n",
      "3803            very pleasant flavor and good quality\n",
      "3804                     This is the foulest Tea ever\n",
      "3805                                      UMMMM!!!!!!\n",
      "3806                                            Yummy\n",
      "3807                                              fyi\n",
      "3808                                         Good Tea\n",
      "3809              Good Things Come in Stinky Packages\n",
      "3810                                             Yum!\n",
      "3811                                     Great Stuff!\n",
      "3812                 Sage Tea helps with night sweats\n",
      "Name: Summary, dtype: object\n",
      "72378                                                     Yes.\n",
      "72379                                                  nice...\n",
      "72380                                               Life saver\n",
      "72381                                      Best stuff on earth\n",
      "72382                                                 gingerAZ\n",
      "72383                            Very Good Source of Magnesium\n",
      "72384                                               good stuff\n",
      "72385                                           Very versatile\n",
      "72386                                            Great Product\n",
      "72387                                                     YUCK\n",
      "72388                                  NOT magnesium + calcium\n",
      "72389                                              Muscle pain\n",
      "72390                                           Really Helpful\n",
      "72391                                            great product\n",
      "72392    THIS IS THE REAL DEAL! Ended years of IBS-C suffering\n",
      "Name: Summary, dtype: object\n",
      "14351                                            Gave  my dog gas,\n",
      "14352                                                Great treats.\n",
      "14353                                                   AWESOME!!!\n",
      "14354                                   Made my doggie very happy!\n",
      "14355                               Toy Maltese hate salmon flavor\n",
      "14356                         Great for training, dog loves these!\n",
      "14357                                               Dog loves them\n",
      "14358                                  Mini Naturals are just okay\n",
      "14359                                           Great for training\n",
      "14360                                                dog loves 'em\n",
      "14361                                            Love this product\n",
      "14362    not for spoiled/finicky dogs who prefer stella and chewys\n",
      "14363                                                  great treat\n",
      "14364                                           Great for Training\n",
      "14365                                                Great treats!\n",
      "Name: Summary, dtype: object\n",
      "152724    The Best of Jack Links brands in the 'hot factor category'\n",
      "152725                                                 Great Protein\n",
      "152726                                                         Gross\n",
      "152727                                          Only Three Bags Came\n",
      "152728                                           Jalapeno Carne Seca\n",
      "152729                                                      So good!\n",
      "152730                       Good, healthy and protein filled snack.\n",
      "152731                                   By Far The Best Jack Links!\n",
      "152732                                                 Very Pleased!\n",
      "152733                                   Oh yes.  This is the stuff!\n",
      "152734                                               Perfect Protein\n",
      "152735                                                   Never again\n",
      "152736                                      Great taste, tender meat\n",
      "152737                                        Pretty Damn Good Jerky\n",
      "152738                                                             .\n",
      "Name: Summary, dtype: object\n",
      "259092                My Favorite\n",
      "259093        Grove square k cups\n",
      "259094    Grove Square Cappuccino\n",
      "259095    Great taste Great price\n",
      "259096                  Cappacino\n",
      "259097              Great tasting\n",
      "259098                  Too Sweet\n",
      "259099                 delicious!\n",
      "259100                  Too sweet\n",
      "259101                  delicious\n",
      "259102          Love this product\n",
      "259103                      Yuck!\n",
      "259104            Split household\n",
      "259105                Pretty good\n",
      "259106     Exactly what I wanted!\n",
      "Name: Summary, dtype: object\n",
      "48390    C H I P.....C H I P.....H O O R A Y....!!!!!  :  )  ( B A C K Y A R D.....B A R B E C U E )\n",
      "48391                                                                               spicy thai chips\n",
      "48392                                                    70% of the chips in the bag are over cooked\n",
      "48393                                                                                     Great deal\n",
      "48394                                                                                    Delicious!!\n",
      "48395                                                                          Not quite the best...\n",
      "48396                                         Love at first bite!  Tongue-puckering tang and crunch!\n",
      "48397                                                                                   Not low salt\n",
      "48398                                                                              VERY DISAPPOINTED\n",
      "48399                                                                                          Crisp\n",
      "48400                                                                  Surprise 1  It's different...\n",
      "48401                                                           Best salt & vinegar chips out there!\n",
      "48402                                                                              The best I've had\n",
      "48403                                                           Caution: Kettle Chips are addictive!\n",
      "48404                                                                                Best chips ever\n",
      "Name: Summary, dtype: object\n",
      "83798                           Popchips\n",
      "83799             Single Serve Pop Chips\n",
      "83800          not as good as BBQ flavor\n",
      "83801                             Yummy!\n",
      "83802                 Tastes Like Celery\n",
      "83803                        Tasty Treat\n",
      "83804                  Not for everyone!\n",
      "83805    Awesome healthIER snack option!\n",
      "83806                       Too salty...\n",
      "83807                         Like crack\n",
      "83808                         Addictive!\n",
      "83809                           GREAT!!!\n",
      "83810                   snack food lover\n",
      "83811          Alternative to rice cakes\n",
      "83812                   Crunchy....salty\n",
      "Name: Summary, dtype: object\n",
      "210468                                                        Good morning coffee\n",
      "210469                                                         A Good Daily Roast\n",
      "210470                                                My favorite hazelnut coffee\n",
      "210471                                           Good, but not Wolfgang Puck good\n",
      "210472                                                   Strong Dark Roast Coffee\n",
      "210473                                                          Flavored cofffee?\n",
      "210474                                                       Best Coffee EvER!!!!\n",
      "210475                                                    I really like this one!\n",
      "210476                                                      Wish I were in Hawaii\n",
      "210477                                                     Our favorite k-cup yet\n",
      "210478                                                                Delectable!\n",
      "210479                                           One of the Best Mild K-cups Made\n",
      "210480                                                   wake up to deliciousness\n",
      "210481    Bold, but Not Teeth Jarring Bold. Nice Flavor and a Nice Cup of Coffee.\n",
      "210482                                            Another great dark K-cup coffee\n",
      "Name: Summary, dtype: object\n",
      "258375                    Great Dark Cocoa\n",
      "258376                  Delicious cocolate\n",
      "258377                     HARD TO BELIEVE\n",
      "258378                 FAVORITE HOT COCOA!\n",
      "258379                 Contains Trans-Fats\n",
      "258380       The \"Replicator\" of our time.\n",
      "258381                          Delicious!\n",
      "258382                   The kids love it!\n",
      "258383                              Great!\n",
      "258384           Best Hot Cocoa for Keurig\n",
      "258385                         Great cocoa\n",
      "258386     W-E-A-K! NOT WORTH THE COST!!!!\n",
      "258387                           very good\n",
      "258388    highly recommended hot chocolate\n",
      "258389                            THE BEST\n",
      "Name: Summary, dtype: object\n"
     ]
    }
   ],
   "source": [
    "print(cluster0.Summary.head(15))\n",
    "print(cluster1.Summary.head(15))\n",
    "print(cluster2.Summary.head(15))\n",
    "print(cluster3.Summary.head(15))\n",
    "print(cluster4.Summary.head(15))\n",
    "print(cluster5.Summary.head(15))\n",
    "print(cluster6.Summary.head(15))\n",
    "print(cluster7.Summary.head(15))\n",
    "print(cluster8.Summary.head(15))\n",
    "print(cluster9.Summary.head(15))\n",
    "print(cluster10.Summary.head(15))\n"
   ]
  },
  {
   "cell_type": "code",
   "execution_count": 15,
   "metadata": {
    "collapsed": true
   },
   "outputs": [],
   "source": [
    "# 0       1914 water\n",
    "# 1     277442 books/dogtreats\n",
    "# 2       3445 herb tea\n",
    "# 3       1756 vitamins\n",
    "# 4       2058 dogtreats\n",
    "# 5       1161 jacklinks\n",
    "# 6       1755 sweet Coffees\n",
    "# 7       2476 tangy chips\n",
    "# 8       4097 Popchips\n",
    "# 9       3270 strong coffee\n",
    "# 10      1290 hot chocolate\n"
   ]
  },
  {
   "cell_type": "code",
   "execution_count": 16,
   "metadata": {
    "collapsed": false
   },
   "outputs": [
    {
     "name": "stdout",
     "output_type": "stream",
     "text": [
      "255972                                                                                                                                                                                                                                                                                                                                                                                                                                                                                                                                                                                                                                                                                                                                                                                                                                                                                                                                                                                                                                                                                                                                                                                                                                                                                                                                                                                                                                                                                                                                                                                                                                  This was tested by my family of 4 (2 adults , 11 year old and 14 year old) and we found it tasted filtered and crisp. We found it did not have any weird after taste like some of the other waters. When shopping for water I will look for this product -- a nice product.\n",
      "255973                                                                                                                                                                                                                                                                                                                                                                                                                                                                                                                                                                                                                                                                                                                                                                                                                                                                                                                                                                                                                                                                                                                                                                                                                                                                                                                                                                                                                                                                                                                                                                                                                                                                                                                       Great water. Smooth in taste, no after taste, no chemical odor. Just clean, crisp water that slides down easy. Better than a dozen or so other brands of water I've tried in the past.\n",
      "255974    On a cost-per-ounce basis, this product is far closer to fancy imported spring waters from tropical islands than it is to any of the other purified tap waters available in their single-use plastic bottles.<br /><br />And that's all it is: purified tap water, with baking soda and a few other things added.<br /><br />Is the pH really 9.5? Who knows. Most of us aren't going to spend the money to buy the equipment to test it. (And that's not even getting into the company's interesting claim that the water is 'too pure' to test with cheap litmus paper. If the water were pure, the pH would be 7. All the fun chemicals they add to change the pH necessarily make it no longer pure.)<br /><br />What i can say is, whatever the pH was, it made no impression on a mild case of heartburn, the kind that can be knocked out with one or two chewable antacid tablets. I didn't feel more hydrated after 1.5 liters of this than i'd feel after 1.5 liters of any other water.<br /><br />The taste? Water. I drink a lot of water, mostly straight tap water, sometimes filtered with a standard filter pitcher, and every once in a while from a pre-packaged bottle of water when i plan badly and my reusable bottle runs dry. Essentia wasn't noticeably different.<br /><br />There are a lot of websites out there that promise all sorts of health benefits for drinking high pH water. There are even some people with an MD after their name that back up the claims. But that's the great thing about the internet: there's a website for everything, and often someone with a fancy degree swearing it's all true.<br /><br />So if you want to pay a pile of money for water that is, at its core, tap water with some stuff filtered out and other stuff added in, that's your business. But if you believe all the marketing hype, well, i've got a bridge for sale...\n",
      "255975                                                                                                                                                                                                                                                                                                                                                                                                                                                                                                                                                                                                                                                                                                                                                                                                                                                                                                                                                                                                                                                                                                                                                                                                                                                                                                                                                                                                                                                                                                                                                                                                                                                                                            I don't understand all of the hype with this perfectly balanced 9.5pH water.  It tastes like all other bottled water I've had.  It isn't any smoother, doesn't taste any different and in the end, is just water.\n",
      "255976                                                                                                                                                                                                                                                                                                                                                                                                                                                                                                                                                                                                                                                                                                                                                                                                                                                                                                                                                                                                                                                                                                                                                                   I drink a lot of water, but I rarely purchase bottled water. We've been using  the <a href=\"http://www.amazon.com/gp/product/B000W9Q0GC\">New Wave Enviro Premium 10 Stage Water Filter System</a> for a year now.  Essentia 9.5 pH drinking water has no taste & is very good. Taste wise Essentia 9.5 pH compares to the water I get from my faucet using the New Wave Enviro filter. However, Essentia is enhanced with pure minerals & promotes its 9.5 pH alkalinity.<br /><br />I don't know if there have been any scientific studies on the benefits of drinking alkaline water.  My internet search was inconclusive.<br /><br />If you are looking for an alkaline bottled water with a pH of 9.5, Essentia won't disappoint you.\n",
      "Name: Text, dtype: object\n",
      "0                                                                                                                                                                                                                                                                                                                                                                                                       This book is a family favorite and was read to my children over and over again when they were small.  We ordered it for a new mom-to-be so that she and her family can enjoy it too!\n",
      "1                                                                                                                                                                                                                                                                                 This book contains a collection of twelve short statements, all of which end with the phrase \"Chicken Soup with Rice.\" Each one is based on a month of the year and they have some elements of nonsense verse. For that reason, children will find them entertaining and they will generate a few giggles.\n",
      "2    I set aside at least an hour each day to read to my son (3 y/o). At this point, I consider myself a connoisseur of children's books and this is one of the best. Santa Clause put this under the tree. Since then, we've read it perpetually and he loves it.<br /><br />First, this book taught him the months of the year.<br /><br />Second, it's a pleasure to read. Well suited to 1.5 y/o old to 4+.<br /><br />Very few children's books are worth owning. Most should be borrowed from the library. This book, however, deserves a permanent spot on your shelf. Sendak's best.\n",
      "3                                                                                                                                                                                                                                                                                                                                                                                I remembered this book from my childhood and got it for my kids.  It's just as good as I remembered and my kids love it too.  My older daughter now reads it to her sister.  Good rhymes and nice pictures.\n",
      "4                                                                                                                                                                                                                                                                                                                                                                                                                                                                                                It was a great price, but I can't read it to my class. It is like a little travel brochure.\n",
      "Name: Text, dtype: object\n",
      "3798                                                                                                                                                                                                                                                                                                                                                                Its a really delicious earthy, herbal tea. Every cup makes me feel warm and comfy. I love it! his will definitely be a repeat order.\n",
      "3799                                                                                                                                                                                                                                                                                                                                             The tea helped me tremendously with getting a more restful sleep.  I do however, think you should take it when you know you have more time to sleep in.\n",
      "3800                                                                                                                                                                                                                                                                                                                          I do not really like tea but I needed to drink it for medical reasons.  Shipping was really fast and the price was good.  I am sure those who like Sage Tea would love it.\n",
      "3801    I watched Dr. OZ on television and he was explaining how to minimize and/or avoid crows feet. His advice? Drinking Fenugreek tea, taking L-Arginine supplements and getting a good nights' sleep (6 hour min.). Well, I am going to give it a shot. This tea has an interesting taste-not your typical tea but not bad. It tastes pretty good with a bit of honey added actually. I wasn't able to find this tea in any local supermarkets but here it is on Amazon. Seems they have everything!\n",
      "3802                                                                                                                                                                                                                                                                           This tea was very good. I was Very happy I got it. A tea that is so good for you and will help many things in your body. My breathing felt better after the first cup. I will be buying more again soon. Doug in Calif...\n",
      "Name: Text, dtype: object\n",
      "72378                                                                                                                                                                                    Before I  bought this I read all the reviews and they are all pretty accurate. It's a great product. I take 1.5 tsp twice a day once in the morning and once at night. It helped me sleep better, it made going to the bathroom easier, I wasn't craving junk food as much as usual (I'm usually pretty healthy about what I eat), and I just felt better in general. Great product I would give it 10 stars if I could!\n",
      "72379                                                                                                                                                                                                                                                                                                                                                                                               This is a nice product.  It seems to help as it states it does--to calm and relax.  I mix it in my homemade unsweet ice tea to make it a little sweet because this product is actually very sweet like sugar.\n",
      "72380                                                                                                                                                                                                           I was suffering from arrhythmia (irregular heart beat) and high blood pressure.  After extensive research and refusal to take any \"medicine\" (useless drugs) I started taking these minerals.  Both problems completely disappeared within a month!  These minerals also help me to get to sleep faster and stay asleep all night.<br /><br />I love this stuff and am a very satisfied customer.\n",
      "72381    My wife and I use this every night before we go to bed.  It is just as natural to us as breathing...we can really tell a difference in our health without it!!  I would advise anyone over 35 years old to use this stuff!! Our last order was for 5 16 oz., Rasberry Lime and that order was placed on September 19, 2011...I'm back at Amazon to buy another 5 containers!!  BTW...If you purchase this at your local health food store or vitamin store prepare to pay BIG TIME for this...We had a chiropractor try and sale us a 16 oz., bottle for $43.00!  Amazon, is the best deal on the web!!!\n",
      "72382                                                                                                                                                                                                                                                                                                                                                                                                            This product is very good to take with Oxy-Powder.  It cuts down on the amount of Oxy-Powder one needs and this is very good for ones budget.<br />It also helps ones energy so you feel better.\n",
      "Name: Text, dtype: object\n",
      "14351                                                                                                                                                                                                                                                                                                                                   My dog seemed to like these, but not as much as other snacks he's been given.  And, I definitely didn't enjoy smelling the gas which was emitted after he ate these.\n",
      "14352                                                                                                                                                                                                                                                                                                 These are great treats when you want to use them as a training reward.  They are the perfect size and my 6-month old Yellow Lab loves them.  Zuke's seems to make a good product and I recommend them.\n",
      "14353                                                                                                                                                                                                                              I didn't expect to get so many treats!!! They're small but perfect for training, and my dog loves them! She already learned how to roll over and play dead with these treats. Definitely worth the price. Buy the 1 pound, peanut butter bag, and your dog will love you!\n",
      "14354                                                                                                                                                                                                                                                                                                          I don't know about your dog, however my doggie loves the Zuke's Salmon flavored treats! He receives a small handfull of these at noon and again about an hour before bedtime! What a country!\n",
      "14355    I was training my maltese puppies, using chicken liver treats, every time i would throw the ball, they would bring he ball back for a chicken liver treat. I ran out of the chicken liver, so i opened the salmon.  They got he ball  and i gave hm salmon. They ate it the first time after smelling it or a while, the second time they got the ball they did not touch thebtreat. I have tried 3 othr times, and they hate this stuff.<br />I will not buy or recommend this product for Maltese\n",
      "Name: Text, dtype: object\n",
      "152724    The Peppered brand is my favorite of the 'hot' options from Jack Links beef jerky.  It is on the pricey side, but I subscribe to it anyways currently.  I've tried the Jalepeno brand but, it is not as 'hot' as the Peppered brand -but I still make room for both.<br /><br />Again back to the price... it's on the high side.  Which compels me to eventually research more about making my own beef jerky and then make it closer to what I'm looking for - scorching hot!  Something that includes cayenne, habaneros and the like for a taste to remember!\n",
      "152725                                                                                                                                                                                                                                                                                                                                                                                                                     Jack Link's beef jerky is a quick and great tasting way to get extra protein into your diet.  A great snack.  I really like the teriyaki flavor.\n",
      "152726                                                                                                                                                                                                                                                              I got Teryaki flavored of the mega packs and yuck! The jerky was so hard and crunchy and old.... It said that it expires in 2013 but still it tastes so nasty so i threw it away and got a refund for my purchace. Amazon is great but these people sell nasty jerky, just go to the store to buy jerky\n",
      "152727                                                                                                                                                                                                                                 I ordered the Original Beef Jerky, 3.25-Ounce Bags (Pack of 4) and I got it today. But after I opened the box I noticed that there are only 3 bags in the pack, and the pack is opened already. Very disappointed with this order! I have shopped through Amazon for many years, and this is the first time that appeared a problem.\n",
      "152728                                                   The wonderful flavor of Jalapeno's in this zip locked bag fills the air once it is opened. I originally purchased this package of Jack Link for snacking but found myself munching until the entire bag is empty. I first across them on store shelfs in Toledo, Ohio and have not been able to find them in any stores in the Fort Worth,Texas area (until my only other source amazon.com). I love the flavor of the Jalapeno and it is spiced just right. Jack Link is great but Carne Seca is one of the best.\n",
      "Name: Text, dtype: object\n",
      "259092                                                                                                                                                        Easily my favorite of all the cappuccinos.  I really enjoy this one.  They are sweet though, so if you don't have a sweet tooth, this may be too much for you.\n",
      "259093    I ordered three different flavors for a birthday gift to go along with the Keurig brewer.  I tried the caramel, hot chocolate, and hazelnut, and they were all excellent.  Rich in flavor and very easy to use.  I am going to buy a Keurig now.  The whole purchase was great.  I will be buying from them again.\n",
      "259094     <a href=\"http://www.amazon.com/gp/product/B005K4Q37U\">Grove Square Cappuccino Cups, Hazelnut, Single Serve Cup for Keurig K-Cup Brewers, 24-Count</a><a href=\"http://www.amazon.com/gp/product/B005K4Q37U\">Grove Square Cappuccino Cups, Hazelnut, Single Serve Cup for Keurig K-Cup Brewers, 24-Count</a> Yummy!\n",
      "259095                                                                                                                                                            what more can I say. I have reordered this product and am well satisfied. I use it at work in our new coffee pot, but don't have that kind of pot at home.\n",
      "259096                                                                                                                                           An excellent product. Too bad it's not readily available in the stores. Walmart used to carry it, but I'm told the Grove Square rep is not responsive. Seems foolish to me.\n",
      "Name: Text, dtype: object\n",
      "48390    I was getting VERY worried, when I read some of the other reviews here.  Specifically, the \"One Star\" reviews, to which I always go, to see if the faults these other reviewers find with any merchandise would prevent me from buying it.<br /><br />WOW!  They sure seemed to hate the KETTLE CHIPS, BACKYARD BARBECUE 9-OUNCE BAGS, (PACK OF 12), that I had bought as 1 ounce bags, liked A LOT, decided to subscribe....and then, for good measure, got 2 orders of the 9 ounce bags.<br /><br />Yes...I love potato chips....especially these KETTLE CHIPS, BACKYARD BARBECUE FLAVOUR....but others seemed to really HATE them...or at least, hate how they had changed.<br />But then I realized they were talking about OTHER FLAVOURS!  Amazon, in it's deep wisdom, has obviously seen fit to put ALL comments concerning ALL flavours of KETTLE, (and other brands of?????) potato chips, TOGETHER!<br /><br />Of course, this DOES have SOME advantages, because most potato-chip lovers, (like me!), enjoy eating several flavour, and brand varieties.  So, comparisons can be made easily.  Also, as we're all potato-chip lovers, but each person has his or her very favourite flavour that they are reviewing, we are, here a sort of \"United Nations of Potato Chip Lovers\"....all different, but all united in our love of Potato Chips!  (The rest of the world can REALLY benefit from the example of our tightly-knit, but ever...er,...expanding...group here, I think! : )  But -- not at first realizing that these<br />different flavour reviews were all together, did cause me a little confusion and dismay.... at least to begin with.... (Amazon should have mentioned that this is the \"Kettle Potato Chip Review Forum\"! : )<br /><br />I am happy to report that KETTLE CHIPS, BACKYARD BARBEQUE FLAVOUR, are totally delicious!  (At least they are in the one-ounce bags...hopefully the same product in the 9 ounce bags will taste the same!)  These are definitely chips for ADULTS, however -- and/or children whose stronger-than...\n",
      "48391                                                                                                                                                                                                                                                                                                                                                                                                                                                                                                                                                                                                                                                                                                                                                                                                                                                                                                                                                                                                                                                                                                                                                                                                                                                                                                                                                                                                                                                                                                                                        TOTALLY ORGASMIC.  these chips are the best spicy chip i have ever tasted.  signed up for the subscribe and save option.  the case contained 15(FIFTEEN, FULL SIZED BAGS) OF CHIPS.  the price per unit equals $1.73  per package.  that is not even the cost of plain chips.  if you add the free shipping and the fast delivery, this deal is a steal.  so run like you stole something over to your computer and order the SPICY THAI CHIPS.  p.s.  even if you paid the going price of $30.00, you are still ahead of the curve.  ENJOY\n",
      "48392                                                                                                                                                                                                                                                                                                                                                                                                                                                                                                                                                                                                                                                                                                                                                                                                                                                                                                                                                                                                                                                                                                                                                                                                                                                                                                                                                                                                                                                                                                                                                                                                                                                                                                                                                                                                        I like Kettle chips but was really disappointed with this order because they were over cooked.  I bought a bigger sized bag from Costco and the chips were all cooked perfectly. So I don't know why these were different.<br />Will never buy these chips from here again.\n",
      "48393                                                                                                                                                                                                                                                                                                                                                                                                                                                                                                                                                                                                                                                                                                                                                                                                                                                                                                                                                                                                                                                                                                                                                                                                                                                                                                                                                                                                                                                                                                                                                                                                                                                                                                                          These Backyard BBQ Kettle Chips were a great deal with the promo code.  It was nice to have a larger size bag.  Some Kettle Chips in the grocery store are only about 5 ounces and we polish them off in one family lunch!  They arrived fresh and were not in crumbles as some other chips from Amazon Grocery have been.  Great flavor and All Natural!\n",
      "48394                                                                                                                                                                                                                                                                                                                                                                                                                                                                                                                                                                                                                                                                                                                                                                                                                                                                                                                                                                                                                                                                                                                                                                                                                                                                                                                                                                                                                                                                                                                                                                                                                                                                                                                                                                                                                                                                                                                                                       Perfect!! They are my favorite because I can season with a variety of spices to exactly suit my tastes without all the salt!\n",
      "Name: Text, dtype: object\n",
      "83798                                                                                                                                                                                                                                                                                                                                                                                                                                                                                                                                                                                                                                                                                                                                                                                                                                                                                                                                                                                                                                                                                                                                                                                                                                                                                                                                                                                                                                                                                                                                                                                                                                                                                                                                                                                                                                                                                                                      Excellent Robust flavor, cannot find in Grocery store.  Cheaper than grocery store.Very helpfull for dieters who love potatoe chips, the salt and the crunch.\n",
      "83799                                                                                                                                                                                                                                                                                                                                                                                                                                                                                                                                                                                                                                                                                                                                                                                                                                                                                                                                                                                                                                                                                                                                                                                                                                                                                                                                                                                                                                                                                                                                                                                                                                                                                                                                                                                                                                          It is so convenient receiving these single serve Pop Chips through the mail.  They stay fresh, and there is no waste or overdoing it.  One little bag is a decent portion of these tasty chips, and I've never seen this size in a store.\n",
      "83800                                                                                                                                                                                                                                                                                                                                                                                                                                                                                                                                                                                                                                                                                                                                                                                                                                                                                                                                                                                                                                                                                                                                                                                                                                                                                                                                                                                                                                                                                                                                                                                                                                                                                                                                                                                                                                                                                                                                                     BBQ was out-of-stock when our subscription order was due, so I tried these. Still light and less fatty, but the flavor is off.\n",
      "83801                                                                                                                                                                                                                                                                                                                                                                                                                                                                                                                                                                                                                                                                                                                                                                                                                                                                                                                                                                                                                                                                                                                                                                                                                                                                                                                                                                                                                                                                                                                                                                                                                                                                                                                                                                                                                                                                                                                        Order arrived on time and in great condition (no squished box).  First time trying this flavor of their product, YUMMY!  Have lots of water on hand, spicy!\n",
      "83802                                                                                                                                                                                                                                                                                                                                                                                                                                                                                                                                                                                                                                                                                                                                                                                                                                                                                                                                                                                                                                                                                                                                                                                                                                                                                                                                                                                                                                                                                                                                                                                                   I really like pop chips, but this flavor isn't the best. I was expecting these to taste like chili peppers and lime (Spicy, Sweet, and Tart), but instead of going for a chili pepper taste, they went for a chili the food taste. This wouldn't be so bad, except they taste overwhelmingly of tomato and celery. The reason they didn't call them Tomato and Celery Chips is because it is sounds gross and no one would buy that, and unfortunately it tastes like it sounds.\n",
      "83803                                                                                                                                                                                                                                                                                                                                                                                                                                                                                                                                                                                                                                                                                                                                                                                                                                                                                                                                                                                                                                                                                                                                                                                                                                                                                                                                                                            The first time I tried this I thought, wow, this is great! It's as satisfying as eating regular potato chips, but sweeter and presumably healthier. So had I written the review then I would have given it 5 stars. The reason I hesitated was that I took it with me to work, and the more I tried it, the more I began to question the sweetness. There's no question that sweet potatoes are slightly sweet, but I felt it only fair to let readers know that they might find this product to be TOO sweet. Hence the reason for the 4 stars. It is still quite good, but if you find sweetness to be cloying, you might not like this product for long. But all in all, I would still recommend it.\n",
      "83804                                                                                                                                                                                                                                                                                                                                                                                                                                                                                                                                                                                                                                                                                                                                                                                                                                                                                                                                                                                                                                                                                                                                                                                                                                            I absolutely LOVE popchips!  So far, I have tried the plain (really don't like these - no flavor at all), BBQ (very nice, rather sweet - I do like these) and Salt & Pepper (by FAR my favorite).  The Salt & Pepper are VERY peppery.  More Pepper than Salt, but I really enjoy the savory bite these have.  I really enjoy the texture of these as well.  Of course I really enjoy rice cakes as well and these are similar in taste \"weight\" but the texture is more like maybe a thick (yet still light) Munchos, or maybe like a flattened out pork rind.  Like I said however, these are not for everyone.  My husband really doesn't like them much.  So far he only sort-of likes the Salt & Pepper.  I would suggest going on PopChips website and see where they are sold locally, around me they are sold at Target Stores.\n",
      "83805                                                                                                                                                                                                                                                                                                                                                                                                                                                                                                                                                                                                                                                                                                                                               I first had Popchips last week at a local deli in Miami. I was so impressed with them that I came online to find them (not even remembering the brand name) and I'm so happy that my favorite online retailer Amazon offers them. I don't necessarily want $20 worth of chips (LOL) but on the other hand, I love them so much that I do need that many so I can have half at home, and half at work (in different flavors). And I'm sure this price is much cheaper than buying them one by one at the deli I go to.<br /><br />I am a serious chip lover but am always looking for healthier alternatives. I love that these chips are low in calorie/fat but taste 10X better than baked chips. There's something about a need for salt n crunch that baked chips don't solve for me. I've found most of them to be bland, flat, weird, cracker-like. As soon as you put one of these chips in your mouth you'll realize that they're not lightweights at all. I love the salt/vinegar and was very surprised that they don't lack flavor or taste less salty/vinegar(y) than their high calorie counterparts. The crunch of the chip reminds me of a ligther alternative to a kettle chip or the General Mills chips, Bugle. I am such a fan, and now that I've found these chips on Amazon, I don't plan to buy any other kind.\n",
      "83806                                                                                                                                                                                                                                                                                                                                                                                                                                                                                                                                                                                                                                                                                                                                                                                                                                                                                                                                                                                                                                                                                                                                                                                                                                                                                                                                                                                                                                                                                                                                                                                                          I love the taste of pop-chips but, I think it is a little too salty. The manufacturer for some reason decided that it looked,tasted too healthy and decided to add extra salt to appeal to a broad audience.<br />I think they woul've been better served keeping the salt content low.<br /><br />I would recommend the barbecue flavor which doesn't suffer from the same problem. the worst I think is the sour-cream (or something like that) flavor. This one is ok.\n",
      "83807                                                                                                                                                                                                                                                                                                                                                                                                                                                                                                                                                                                                                                                                                                                                                                                                                                                                                                                                                                                                                                                                                                                                                                                                                                                                                                                                                                                                                                                                                                                                                                                                                                                                                                                                                                                                                                                                                                                                                                                        These things are like crack, I can't stop eating them!! Hence why I buy them in 12 packs :)\n",
      "83808                                                                                                                                                                                                                                                                 I've never been a big fan on chips. When it comes to snack foods, I'm more of a pretzel guy, or maybe something cheesy. Potato chips, in particular, just never appealed to me. But these aren't potato chips.<br /><br />If you read the bag, and I'm one of those strange people that actually do read the bag, you'll find out that these \"chips\" are not chips at all. They are neither fried, nor baked; they are made similar to how cheese-puffs are made, only in a way that results in a chip-like product, rather than a puff. This gives them a really addictive, crunching texture that keeps me going back for more. They pack a pretty good Sweet Potato flavor, with a noticeable sweetness balanced by saltiness and what I think are some subtle notes of spices like cinnamon. They're really tasty.<br /><br />While I wouldn't exactly call this health food, it's certainly not as bad as many traditional snack foods. Each individual bag is a serving and contains about 19 chips. The caloric price tag is 100 calories, which is not bad at all, especially considering nutritional payload is a respectable 3g of fat (none of which is saturated, so it's \"good\" fat), and no cholesterol. More impressive is only 45mg of sodium and a mere 2g of sugar. Comparatively speaking, these are a pretty smart choice for a snack if you're worried about those kinds of things.<br /><br />I was really happy to see the ingredients list was relatively short and contained no hydrogenated fats (sources of trans fatty acids), high fructose corn syrup (they use cane syrup, which is preferable to me), or MSG. Rice flour, dry sweet potatoes, and tapioca are the biggest ingredients. As far as processed foods go, not bad at all.<br /><br />I will definitely buy these again.\n",
      "83809                                                                                                                                                                                                                                                                                                                                                                                                                                                                                                                                                                                                                                                                                                                                                                                                                                                                                                                                                                                                                                                                                                                                                                                                                                                                                                                                                                                                                                                                                                                                                                                                                                                                                                                                                                                                                                                                                                                                                                               Love these pop chips----low fat and calories and yummy flavor.  Will definitely be ordering again!!!\n",
      "83810                                                                                                                                                                                                                                                                                                                                                                                                                                                                                                                                                                                                                                                                                                                                                                                                                                                                                                                                                                                                                                                                                                                                                                                                                                                                                                                                                                                                                                                                                                                                                                                                                                                                                                                                                                                                                                                        This chip taste great.  If you're watching your weight you can't beat the calorie count for a bag.  Great low calorie snack food that I have to hide from my 16 year old son because he can eat a case in about three days!\n",
      "83811    I'm on a diet and there are times when I just want something crunchy. But I also have high blood pressure so a lot of snacks that I use as a treat are too high-sodium for me. I eat rice cakes with peanut butter or cottage cheese once in a while and I happened to see Popchips on Amazon.com. These <a href=\"http://www.amazon.com/gp/product/B001RVAWY0\">Popchips Original Potato Chips, 0.8-Ounce Single Serve Bags (Pack of 24)</a> were advertised at a special price and all the flavored ones were sold out, so I decided to try the original flavor. After trying my first bag I have a few comments.<br />1. Great service - I ordered them on 1/27, and they were delivered on 2/3, with no damage to the packaging.<br />2. I like the 24-pack that are individual servings because that helps me regulate portion control.<br />3. As a previous reviewer noted they do taste somewhat like Pringles - whether that's good or bad is up to individual tastes.<br />4. The nutritional information isn't terrible: a serving has 100 calories, 3 grams of fat with no cholesterol or saturated/trans fat, and only 160 mg.sodium; Pringles also contains 160 mg of sodium but has 150 calories and 9 grams of fat, as compared to potato chips with an average of 150 calories, 180 mg. sodium, and 10 grams fat, and pretzels with 110 calories, 450 mg sodium, and 1 gram fat.<br />5. They are kind of dry and bland, but are delicious with salsa - I really liked them with Costco's peach mango salsa! I don't have cottage cheese in the house so I couldn't try that. And I think peanut butter wouldn't be good unless something \"wet\" like sugar-free jam or jelly is also added.<br />I just got them so I'm not sure if I'll reorder another box; I think I'm going to next order Amazon's 6-flavor variety pack (4 Original Potato, 4 BBQ, 4 Salt & Pepper, 4 Sea Salt & Vinegar, 4 Sour Cream & Onion, 4 Cheddar)before deciding. I would give them 3 stars if my review was just based on taste; I'm giving 4 stars because I really want to l...\n",
      "83812                                                                                                                                                                                                                                                                                                                                                                                                                                                                                                                                                                                                                                                                                                                                                                                                                                                                                                                                                                                                                                                                                                                                                                                                                                                                                                                                                                                                                                                                                                                                                                                                                                                                                                                                                                                                                                                   Love these chips. Good taste,very crispy and very easy to clean up the entire 3 oz. bag in one sitting.  NO greasy after-taste.  Original and barbecue flavors are my favorites but I haven't tried all flavors.  Great product.\n",
      "Name: Text, dtype: object\n",
      "210468                                                                                                                                                                                                                                                                                                                                                                                                                                                                                                                                                                                                                                                                                                                                                                                                                                                                                                                                                                                                                                                                                                                                                                                                                                                                                                                                                                                                                                                                                                                                                 I love my Keurig but haven't found my \"perfect\" cup of coffee yet, although this comes close. I prefer a medium brew, not bold or strong. Breakfast in Bed is my choice so far.\n",
      "210469                                                                                                                                                                                                                                                                                                                                                                                                                                                                                                                                                                                                                                                                                                                                                                                                                                                                                                                                                                                                                                                                                                                                                                                                                                                                                                                                                                                                                                                                                                                                                            This coffee has become one of my daily favorites.  It's not quite as strong as many of the french roasts, but it's also not as bitter.  A good way to start the day.\n",
      "210470                                                                                                                                                                                                                                                                                                                                                                                                                                                                                                                                                                                                                                                                                                                                                                                                                                                                                                                                                                                                                                                                                                                                                                                                                                                                                                                                                                                                                                                                                                                                                                                     To me, this has a good, balanced flavor.  Some flavored K-cups seem too light on hazelnut, or too light on coffee.  This one is just right.\n",
      "210471                                                                                                                                                                                                                                                                                                                                                                                                                                                                                                                                                                                                                                                                                                                                                                                                                                                                                                                                                                       Honestly, I have to admit that I expected a little better. That's not to say that this is bad coffee - in fact it's quite bold without being too acidic, and pretty satisfying overall. I think my main problem is that Wolfgang Puck's name is attached to it, so perhaps it set my expectations a little high. I have a Wolfgang Puck knife set that I adore, and is very high quality for what I paid for it. This coffee was on sale, so it was well worth it also, I just hoped for something that would knock my socks off - which it didn't. I also purchased the Breakfast blend, and Jamaica me crazy at the same time. The breakfast blend was the best, in my opinion, and the jamaican coffee smelled the best, but was the least successful.\n",
      "210472                                                                                                                                                                                                                                                                                                                                                                                                                                                                                                                                                                                                                                                                                                                                                              This is about the strongest K cup I've purchased.  I like my coffee strong, and before buying a K cup coffee maker, always purchased French roast whole bean and brewed strong coffee.  Brewing this in a K cup machine at an 8 ounce cup will definately provide you with a strong cup of coffee.  Since I brew a cup for my wife and I at the same time, I run two 8 ounce cups with one of these K cups into a small decanter, and then pour into two coffee cups, which still yields a strong flavor, but not enough pop your eyeballs out...<br /><br />Of course, brewing two cups with one K cup drops the price down in half, which at less than thirty cents a cup is on the cheap end of K cup brewing.  I find most K cups are good for up to a 12 ounce cup, and 16 ounces would weaken them too much...  But this works for my wife and I since I have been fixing a cup for each of us for years, and brewing two cups with one K cup is economical.\n",
      "210473                                                                                                                                                                                                                                                                                                                                                                                                                                                                                                                                                                                                                                                                                                                                                                                                                                                                                                                                                                                                                                                                                                                                                                                                                                                                                                         I am not a fan of flavored coffee and I thought I had read the description of this product very carefully but nowhere did I see any indication that it was a flavored coffee. I wish the descriptions of the coffees offered by Amazon were clearer so that there is no confustion as to what you are purchasing. Even the name of the product is a little deceptive since one might assume that it is Jamaican coffee.\n",
      "210474                                                                                                                                                                                                                                                                                                                                                                                                                                                                                                                                                                                                                                                                                                                                                                                                                                                                                                                                                                                                                                                                                                                                                                                                                                                                                                                                                                                                                                                                                                                                                                                                                            The best thing that I look foreward to every morning . It makes my day ,the best tasting coffee ever\n",
      "210475                                                                                                                                                                                                                                                                                                                                                                                                                                                                                                                                                                                                                                                                                                                                                                                                                                                                                                                            Taste is a personal thing, isn't it.  So I'll just tell you(as a gauge) my all time favorite K-cup is Timothy's Midnight Magic a \"california roast\" (which is dark). I'm partial to dark roasts and probably would not have even bothered with this Sorrento, but a friend had it, so I tried it, and lo and behold - I'm very glad I did. I find this blend even better than Puck's \"Kopei Ray\" which is his dark roast. There's a whole lot of good flavor here - the word \"luscious\" comes to mind. This one's not available every where and comes at a slight cost premium. I say it's worth it. These will be a regular for me. PS: A suggestion (which seems apparent); as with any k-cup, when you try a new blend, use the plain old 1 cup setting to check it out undiluted the first time.\n",
      "210476                                                                                                                                                                                                                                                                                                                                                                                                                                                                                                                                                                                                                                                                                                                                                                                                                                                                                                                                                                                                                                                                                                                                                                                                                                                                                                                                                                                                                                                                                                                                                                                                              This is good, but could be a bit stronger in the Hazelnut flavor. It is good though and I would purchase it again.\n",
      "210477                                                                                                                                                                                                                                                                                                                                                                                                                                                                                                                                                                                                                                                                                                                                                                                                                                                                                                                                                                                                                                                                                                                                                                                                                                                                                                                                                                                                                                                                                                                               We were given a Keurig for a wedding present, along with several variety packs. So far, Wolfgang Puck's Jamaica Me Crazy is our favorite, and we will definitely be repeat buyers of this flavor.\n",
      "210478                                                                                                                                                                                                                                                                                                                                                                                                                                                                                                                                                                                                                                                                                                                                                                                                                                                                                                                                                                                                                                                                                                                                                                                                                                                                                                                                                                                                                                                                                                                            I am still waiting for Peets to come out with Kcups, but in the meantime, the Wolfgang Puck's coffees are filling the bill. I really like Sorrento AND Rodeo Drive---smooth and full bodied.<br />JS\n",
      "210479                                                                                                                                                                                                                                                                                                                                                                                                                                                                                                                                                                                                                                                                                                                                                                                                                                                                                                                                                                                                                                                                                                                                                                                                                                                                                                                         I have at least 4 dozen different k-cups at my house right now because we love to experiment with different flavors.  My favorite is Timothy's Rainforest Espresso because I like a bold coffee.  But others that prefer something milder say that Breakfast in Bed is their favorite.  I like it to but only when made as a stronger brew.  I have purchased maybe 15 boxes of this since it came out.\n",
      "210480                                                                                                                                                                                                                                                                                                                                                                                                                                                                                                                                                                                                                                                                                                                                                                                                                                                                                                                                                                                                                                                                                                                                                                                                                                                                                                                                                                                                                                                                                                                                                                                                                                    This is the best all around 1st cup in the morning coffee ever!  I love it.  Perfect flavor.\n",
      "210481                                                                                                                                                                                                                                                                                                                                                                                                                                                                                                                                                                                                                                                                                                                                                                                                                   Wolfgang Puck French Roast is a nice, bold (not too bold), flavorful cup of coffee.  If you like <a href=\"http://www.amazon.com/gp/product/B001CHFSQ6\">Coffee People Extra Bold Organic, Dark Roast Coffee for Keurig Brewers, 24-Count K-Cups (Pack of 2)</a>, then you should like Wolfgang Puck's French Roast.<br /><br />This French Roast has a deep flavor with a hint of sweetness and a smooth finish - a good choice for a morning cup of coffee.<br /><br />Recommended.<br /><br />(Note to Manufacturer: as a consumer, I wish you would use real coffee descriptions(i.e., hints of xxx, smooth finish) rather than fluff advertising like \"Bring the aromas of France home with you and \"Profitez des bons moments\" (enjoy the good moments)!\" - what does that really mean? It took me awhile to decide to purchase this coffee because the description gave me zero idea of what to expect).\n",
      "210482    I love the rich, full-bodied flavor of a dark-roast coffee.  When I bought my first Keurig machine I wasted no time in ordering all of the dark roast K-cups that I could find.  I initially settled on Newman's Own Dark Roast as my \"go-to\" coffee, but I didn't stop there.  I like to keep experimenting and looking for something new.  I happened to find Coffee People's Organic Extra Bold blend and was blown away.  It has been my favorite ever since I first tried it.  Last week I saw a listing for a Colombian dark roast sold under the Wolfgang Puck name (it is processed and distributed by Van Houtte) and decided to give it try.  Here is my impression of it:<br /><br />After brewing a cup (I used the 7 1/2 oz. setting) the first thing that I noticed was that it didn't have that freshly-brewed aroma that the Coffee People X-Bold does, however the taste was another story.  It hits your palate with medium acidity and a nice, sharp bite that gets your attention right away. The finish was surprising clean with a hint of spice (nutmeg or cinnamon?) and just a slight, lingering, pleasant bitterness.  I really like this coffee but I think that I will stick with Coffee People's Extra Bold and this will be my back-up brand.  However, I will keep looking for something new.  Who knows what I will find?<br /><br /><a href=\"http://www.amazon.com/gp/product/B001EO7GYY\">Newman's Own&iquest; Organics Special Blend (Extra Bold), K-cups For Keurig Brewers, 24-count,  Boxes (Pack of 2)</a><br /><a href=\"http://www.amazon.com/gp/product/B002L444OQ\">Coffee People Organic, Extra Bold K-Cups for Keurig Brewers (Pack of 50) [Amazon Frustration-Free Packaging</a>]\n",
      "Name: Text, dtype: object\n",
      "258375                                                                                                                                                                                                                                                                                                                                                                                                                                                                                                                                                                                    I liked the milk chocolate version, so tried this.  It is just as good, and with the more intense chocolate flavor, appeals to my chocolate desires.\n",
      "258376                                                                                                                                                                                                                                                                                                                                                                                                                                                                                                                                                                                              This is delicious hot chocolate. It is best at 8 oz cup, but can be stretched to 10. And 8oz of strong coffee and you have delicious mocha\n",
      "258377                                                                                                                                                                                                                                                                                                                                                                                                                                                            I don't ven know why i ordered these, it was just on a whim. But what a surprise when I brewed myself some hot chocolate. The taste was unbelievable, just like homemade. Maybe a tad too sweet, but a tiny little bit of instant coffee added to it did the trick. Love it.\n",
      "258378                                                                                                                                                                                                                                                                                                                                        This is the absolute best hot cocoa for the Keurig Brewers. All of the other Hot Cocoa's that we have tried we had to \"doctor\" to make them taste good. We had to add more cocoa and more sugar. I was pretty much making my own cocoa, which defeated the purpose of the brewer. But the Grove Square Hot Cocoa does not need any help. In my opinion, It has just the right amount of flavor!!\n",
      "258379                                                                                                                                                                                                                                                                                                                                                                                                                                                                                                                Can't tell you how this tastes, because I read the ingredients first, but it has trans-fats in every flavor. :( The seller should disclose all ingredients in the description. I wouldn't have purchased this otherwise.\n",
      "258380                                            We have a new hot beverage cooker. This thing is the closest thing to the futuristic \"replicators\", made know via Star Trek movies and series of various efforts.<br /><br />We love our hot beverage brewer and have added a higher-end unit to our own home environment.<br /><br />We've used such a device and various coffee and tea pods over the last few years, but this kit tops that experience.<br /><br />I especially like the Hot-Chocolate and Tea beverages apart from the hundreds of coffee options.<br /><br />Do consider buying one of their devices and also sample the so very many flavors of coffees, teas and other hot beverages attached to the brewing station.\n",
      "258381                                                                                                                                                                                                                                                                                                                                                                                                                                                                                                                                                                  These k-cups are just what my son wanted!  The price was excellent and the flavor is rich.  I would recommend these to anyone wanting a good cup of instant hot cocoa.\n",
      "258382                                                                                                                                                                                                                                         After trying several brands of Hot Cocoa my kids have decided that this is the one for them.  I'm certainly happy about it because not only is it delicious, but it's also more affordable.  3 boys can consume a box of hot cocoa very quickly, even with limits set.  It's also very convenient to have it shipped automatically.  If we don't drink that much I simply skip a month.  If friends come over and we drink a lot, I just order an extra box.  It's quick, simple and delicious.\n",
      "258383                                                                                                                                                                                                                                                                                                                                                                                                                                                                                                                                                                                                                         Kids loved it. Great product at a great price.  My little one can make her own hot cocoa without my assistance.\n",
      "258384                                                                                                                                                                                                                                                                                                                                                               Perhaps not your Grandma's cup of Hot Chocolate, but for the Keurig, it's the best out there.  And what makes it a sweeter deal you get 3 packs for the typical price of 1 K-Cup box, take note it's a Pack of 3, so a total of 36 k-cups.<br /><br />I suggest only using the small cup setting to prevent it from being watered down too much, but decide for yourself!\n",
      "258385                                                                                                                                                                                                                                                                                                                                                                                                                                                                                                                                            I am a big hot cocoa drinker so this hot cocoa I would definitely recommend it has a great cocoa flavor and it's perfect for those cold fall or winter days. Warms you up plus tastes great!\n",
      "258386                                                                                                                                                                                                                                                                                                                                                                                                                     I ORDERED THE DARK HOT COCOA IN HOPES IT WOULD BE REAL CHOCOLATEY AND IT WAS NO BETTER THAN BUYING A POUCH OF HOT CHOCOLATE AND ADDING IT TO HOT WATER. I ACTUALLY THINK THE POUCH ADDED TO HOT WATER IS LOADS BETTER AND A WHOLE LOT CHEAPER!!!! V-E-R-Y ...D-I-A-P-P-O-I-N-T-E-D! FOR THE PRICE...IT'S A RIP-OFF!\n",
      "258387                                                                                                                                                                                                                                                                                                                                                                                                                                                                                                                                                                                                                            Ordered this in the colder weather and it was great in the morning. Very easy and fast to prepare in K-Cups.\n",
      "258388    They have some really good hot chocolate. I got a single pack before and it was so good that I reordered some more. I like to make a mocha by brewing one of these and then one coffee (use a big cup).<br /><br />One thing to note: these dont have a strainer inside, the entire contents are meant to be used (unlike the coffee Kcups) so it will feel empty once done. I would not recommend brewing on the smaller cup settings. Use a standard mug or larger because the smaller settings wont get all the chocolate from the inside to come out.<br /><br />Also, kids may not like the peppermint flavor.... But that is my favorite one. If you don't want to get the variety pack, they sell the individual flavors too.\n",
      "258389                                                                                                                                                                                                                                                                                                                                                                                                                                                                                                                                                                                                                   This is the best Keurig K-Cup hot chocolate you can buy. I've tried others, but will never buy any other brand again.\n",
      "Name: Text, dtype: object\n"
     ]
    }
   ],
   "source": [
    "print(cluster0.Text.head(5))\n",
    "print(cluster1.Text.head(5))\n",
    "print(cluster2.Text.head(5))\n",
    "print(cluster3.Text.head(5))\n",
    "print(cluster4.Text.head(5))\n",
    "print(cluster5.Text.head(5))\n",
    "print(cluster6.Text.head(5))\n",
    "print(cluster7.Text.head(5))\n",
    "print(cluster8.Text.head(15))\n",
    "print(cluster9.Text.head(15))\n",
    "print(cluster10.Text.head(15))\n",
    "\n"
   ]
  }
 ],
 "metadata": {
  "kernelspec": {
   "display_name": "Python 3",
   "language": "python",
   "name": "python3"
  },
  "language_info": {
   "codemirror_mode": {
    "name": "ipython",
    "version": 3
   },
   "file_extension": ".py",
   "mimetype": "text/x-python",
   "name": "python",
   "nbconvert_exporter": "python",
   "pygments_lexer": "ipython3",
   "version": "3.5.1"
  }
 },
 "nbformat": 4,
 "nbformat_minor": 0
}
